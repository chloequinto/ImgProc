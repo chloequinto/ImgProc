{
 "cells": [
  {
   "cell_type": "markdown",
   "metadata": {},
   "source": [
    "# Edge Detection"
   ]
  },
  {
   "cell_type": "code",
   "execution_count": null,
   "metadata": {},
   "outputs": [],
   "source": [
    "import cv2\n",
    "import sys\n",
    "from matplotlib import pyplot as plt \n",
    "import numpy as np\n",
    "import scipy as sp\n",
    "from scipy import signal\n",
    "import scipy.ndimage as nd\n",
    "from PIL import Image\n",
    "import math\n",
    "from skimage.io import imread"
   ]
  },
  {
   "cell_type": "code",
   "execution_count": null,
   "metadata": {},
   "outputs": [],
   "source": [
    "image = imread('Sunflower.jpg');\n",
    "plt.imshow(image)"
   ]
  },
  {
   "cell_type": "code",
   "execution_count": null,
   "metadata": {},
   "outputs": [],
   "source": [
    "def grayscale(rgb):\n",
    "    R = rgb[:,:,0]\n",
    "    G = rgb[:,:,1]\n",
    "    B = rgb[:,:,2]\n",
    "    gray = 0.2989*R + 0.5870*G + 0.1140*B\n",
    "    \n",
    "    return gray"
   ]
  },
  {
   "cell_type": "code",
   "execution_count": null,
   "metadata": {},
   "outputs": [],
   "source": [
    "greyImg = grayscale(image);\n",
    "plt.imshow(greyImg, cmap=\"gray\")"
   ]
  },
  {
   "cell_type": "code",
   "execution_count": null,
   "metadata": {},
   "outputs": [],
   "source": [
    "def noise(image, mean, var):\n",
    "    row,col= image.shape \n",
    "    sigma = var ** 0.5\n",
    "    nse = np.random.normal(mean,sigma,(row,col))\n",
    "    nse = nse.reshape(row,col)\n",
    "    noise = image + nse\n",
    "    \n",
    "    return noise"
   ]
  },
  {
   "cell_type": "code",
   "execution_count": null,
   "metadata": {},
   "outputs": [],
   "source": [
    "newI = noise(greyImg,0,2000); #gaussian mean=0; var=1000 for noise purpose\n",
    "plt.imshow(newI, cmap = \"gray\")"
   ]
  },
  {
   "cell_type": "code",
   "execution_count": null,
   "metadata": {},
   "outputs": [],
   "source": [
    "#side by side visualization for ease of comparison\n",
    "fig, ax = plt.subplots(1,2)\n",
    "ax[0].imshow(greyImg, cmap='gray')\n",
    "ax[0].set_title(\"Without Noise\")\n",
    "ax[1].imshow(newI, cmap='gray')\n",
    "ax[1].set_title(\"With Noise\")"
   ]
  },
  {
   "cell_type": "code",
   "execution_count": null,
   "metadata": {},
   "outputs": [],
   "source": [
    "D = Image.open('Sunflower.jpg')\n",
    "width, height = D.size\n",
    "print (\"width = {}, height = {}\".format(width,height))"
   ]
  },
  {
   "cell_type": "markdown",
   "metadata": {},
   "source": [
    "### Sobel Filter"
   ]
  },
  {
   "cell_type": "code",
   "execution_count": null,
   "metadata": {},
   "outputs": [],
   "source": [
    "def sobel(im):\n",
    "\n",
    "    im = im.astype(np.float)\n",
    "    width, height = im.shape\n",
    "\n",
    "    kh = np.array([[-1, 0, 1], [-2, 0, 2], [-1, 0, 1]], dtype = np.float)\n",
    "    kv = np.array([[1, 2, 1], [0, 0, 0], [-1, -2, -1]], dtype = np.float)\n",
    "   \n",
    "    gx = signal.convolve2d(im, kh, mode='valid', boundary = 'symm', fillvalue=0)\n",
    "    gy = signal.convolve2d(im, kv, mode='valid', boundary = 'symm', fillvalue=0)\n",
    "\n",
    "    s = np.sqrt(gx * gx + gy * gy)\n",
    "    s *= 255.0 / np.max(s)\n",
    "    \n",
    "    return s"
   ]
  },
  {
   "cell_type": "code",
   "execution_count": null,
   "metadata": {},
   "outputs": [],
   "source": [
    "detect = sobel(newI);\n",
    "detect2 = sobel(greyImg);"
   ]
  },
  {
   "cell_type": "code",
   "execution_count": null,
   "metadata": {},
   "outputs": [],
   "source": [
    "fig, ax = plt.subplots(1,2)\n",
    "ax[0].imshow(detect2, cmap='gray')\n",
    "ax[0].set_title(\"Smooth With Sobel Filter \")\n",
    "ax[1].imshow(detect, cmap='gray')\n",
    "ax[1].set_title(\"Noise With Sobel Filter\")"
   ]
  },
  {
   "cell_type": "markdown",
   "metadata": {},
   "source": [
    "### Prewitt Filter"
   ]
  },
  {
   "cell_type": "code",
   "execution_count": null,
   "metadata": {},
   "outputs": [],
   "source": [
    "def prewitt(im):\n",
    "\n",
    "    im = im.astype(np.float)\n",
    "    width, height= im.shape\n",
    "\n",
    "    kh = np.array([[-1, 0, 1], [-1, 0, 1], [-1, 0, 1]], dtype = np.float)\n",
    "    kv = np.array([[1, 1, 1], [0, 0, 0], [-1, -1, -1]], dtype = np.float)\n",
    "    \n",
    "    gx = signal.convolve2d(im, kh, mode='same', boundary = 'symm', fillvalue=0)\n",
    "    gy = signal.convolve2d(im, kv, mode='same', boundary = 'symm', fillvalue=0)\n",
    "\n",
    "    p = np.sqrt(gx * gx + gy * gy)\n",
    "    p *= 255.0 / np.max(p)\n",
    "    \n",
    "    return p"
   ]
  },
  {
   "cell_type": "code",
   "execution_count": null,
   "metadata": {},
   "outputs": [],
   "source": [
    "detect3 = prewitt(newI);\n",
    "detect4 = prewitt(greyImg);"
   ]
  },
  {
   "cell_type": "code",
   "execution_count": null,
   "metadata": {},
   "outputs": [],
   "source": [
    "fig, ax = plt.subplots(1,2)\n",
    "ax[0].imshow(detect4, cmap='gray')\n",
    "ax[0].set_title(\"Smooth With Prewitt Filter \")\n",
    "ax[1].imshow(detect3, cmap='gray')\n",
    "ax[1].set_title(\"Noise With Prewitt Filter\")"
   ]
  },
  {
   "cell_type": "code",
   "execution_count": null,
   "metadata": {},
   "outputs": [],
   "source": [
    "fig, ax = plt.subplots(2,2)\n",
    "ax[0,0].imshow(detect2, cmap='gray')\n",
    "ax[0,0].set_title(\"Smooth With Sobel Filter \")\n",
    "ax[0,1].imshow(detect4, cmap='gray')\n",
    "ax[0,1].set_title(\"Smooth With Prewitt Filter \")\n",
    "ax[1,0].imshow(detect, cmap='gray')\n",
    "ax[1,0].set_title(\"Noise With Sobel Filter\")\n",
    "ax[1,1].imshow(detect3, cmap='gray')\n",
    "ax[1,1].set_title(\"Noise With Prewitt Filter\")\n",
    "fig.subplots_adjust(hspace=0.5)"
   ]
  },
  {
   "cell_type": "code",
   "execution_count": null,
   "metadata": {},
   "outputs": [],
   "source": [
    "fig, ax = plt.subplots(1,2)\n",
    "ax[0].imshow(detect2, cmap='gray')\n",
    "ax[0].set_title(\"Smooth With Sobel Filter \")\n",
    "ax[1].imshow(detect4, cmap='gray')\n",
    "ax[1].set_title(\"Smooth With Prewitt Filter \")"
   ]
  },
  {
   "cell_type": "code",
   "execution_count": null,
   "metadata": {},
   "outputs": [],
   "source": [
    "fig, ax = plt.subplots(1,2)\n",
    "ax[0].imshow(detect, cmap='gray')\n",
    "ax[0].set_title(\"Noise With Sobel Filter\")\n",
    "ax[1].imshow(detect3, cmap='gray')\n",
    "ax[1].set_title(\"Noise With Prewitt Filter\")"
   ]
  },
  {
   "cell_type": "markdown",
   "metadata": {},
   "source": [
    "### Laplacian Filter"
   ]
  },
  {
   "cell_type": "code",
   "execution_count": null,
   "metadata": {},
   "outputs": [],
   "source": [
    "def Laplacian(im, sigma, threshold):\n",
    "\n",
    "    LoG = nd.gaussian_laplace(im, sigma) \n",
    "    output = sp.zeros(LoG.shape) #return array filled with zeros & LoG\n",
    "    width = output.shape[1] #number of columns\n",
    "    height = output.shape[0] #number of rows\n",
    "\n",
    "    for y in range(1, height - 1):\n",
    "        for x in range(1, width - 1):\n",
    "            a = LoG[y-1:y+2, x-1:x+2]\n",
    "            b = LoG[y, x]\n",
    "            maxA = a.max()\n",
    "            minA = a.min()\n",
    "            \n",
    "            #Zerocrossing\n",
    "            #Greater than zero for postive response on darker side\n",
    "            if (b > 0): \n",
    "                zero = True if minA < 0 else False\n",
    "            else:\n",
    "                zero = True if maxA > 0 else False\n",
    "            if ((maxA - minA) > threshold) and zero:\n",
    "                output[y, x] = 1\n",
    "\n",
    "    return output"
   ]
  },
  {
   "cell_type": "code",
   "execution_count": null,
   "metadata": {},
   "outputs": [],
   "source": [
    "lf = noise(greyImg,0,0.01); #gaussian noise"
   ]
  },
  {
   "cell_type": "code",
   "execution_count": null,
   "metadata": {},
   "outputs": [],
   "source": [
    "tst = Laplacian(lf,1,0);\n",
    "tst0 = Laplacian(lf,3,0);\n",
    "tst1 = Laplacian(lf,5,0);\n",
    "tst2 = Laplacian(lf,7,0);\n",
    "tst3 = Laplacian(lf,9,0);\n",
    "tst4 = Laplacian(lf,11,0);"
   ]
  },
  {
   "cell_type": "code",
   "execution_count": null,
   "metadata": {},
   "outputs": [],
   "source": [
    "fig, ax = plt.subplots(1,3)\n",
    "ax[0].imshow(tst, cmap='gray')\n",
    "ax[0].set_title(\"a\")\n",
    "ax[1].imshow(tst0, cmap='gray')\n",
    "ax[1].set_title(\"b\")\n",
    "ax[2].imshow(tst1, cmap='gray')\n",
    "ax[2].set_title(\"c\")\n",
    "fig.subplots_adjust(wspace=0.5)"
   ]
  },
  {
   "cell_type": "code",
   "execution_count": null,
   "metadata": {},
   "outputs": [],
   "source": [
    "fig, ax = plt.subplots(1,3)\n",
    "ax[0].imshow(tst2, cmap='gray')\n",
    "ax[0].set_title(\"d\")\n",
    "ax[1].imshow(tst3, cmap='gray')\n",
    "ax[1].set_title(\"e\")\n",
    "ax[2].imshow(tst4, cmap='gray')\n",
    "ax[2].set_title(\"f\")\n",
    "fig.subplots_adjust(wspace=0.5)"
   ]
  },
  {
   "cell_type": "code",
   "execution_count": null,
   "metadata": {},
   "outputs": [],
   "source": []
  }
 ],
 "metadata": {
  "kernelspec": {
   "display_name": "Python 3",
   "language": "python",
   "name": "python3"
  },
  "language_info": {
   "codemirror_mode": {
    "name": "ipython",
    "version": 3
   },
   "file_extension": ".py",
   "mimetype": "text/x-python",
   "name": "python",
   "nbconvert_exporter": "python",
   "pygments_lexer": "ipython3",
   "version": "3.7.1"
  }
 },
 "nbformat": 4,
 "nbformat_minor": 2
}
